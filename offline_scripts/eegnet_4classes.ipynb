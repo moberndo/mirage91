{
 "cells": [
  {
   "cell_type": "markdown",
   "id": "04f4a3de-cc97-4df8-aff0-0ab44c692534",
   "metadata": {},
   "source": [
    "## EEGNet model implementation for 4 classes"
   ]
  },
  {
   "cell_type": "code",
   "execution_count": 1,
   "id": "ecc82c1e-573f-4981-87f5-27b3e2df4513",
   "metadata": {},
   "outputs": [
    {
     "name": "stdout",
     "output_type": "stream",
     "text": [
      "11.8\n",
      "True\n"
     ]
    }
   ],
   "source": [
    "import torch\n",
    "print(torch.version.cuda)\n",
    "print(torch.cuda.is_available())\n"
   ]
  },
  {
   "cell_type": "code",
   "execution_count": 2,
   "id": "c99ae38a-ba5e-428d-a9bd-c7e64a57adf0",
   "metadata": {},
   "outputs": [],
   "source": [
    "import os\n",
    "import mne\n",
    "import math\n",
    "import copy\n",
    "import gdown\n",
    "import random\n",
    "import scipy.io\n",
    "import numpy as np\n",
    "import pandas as pd\n",
    "import seaborn as sn\n",
    "import matplotlib.pyplot as plt\n",
    "\n",
    "# Torch\n",
    "import torch\n",
    "import torch.nn as nn\n",
    "import torch.optim as optim\n",
    "import torch.nn.functional as F\n",
    "from torchsummary import summary\n",
    "from torch.autograd import Variable\n",
    "from torch.utils.data import DataLoader, TensorDataset, random_split\n",
    "from torch.utils.data import Dataset, DataLoader\n",
    "from torchmetrics import Accuracy\n",
    "\n",
    "# Scikit-Learn\n",
    "from sklearn.feature_selection import mutual_info_classif\n",
    "from sklearn.metrics import confusion_matrix, accuracy_score\n",
    "from sklearn.model_selection import train_test_split\n",
    "     "
   ]
  },
  {
   "cell_type": "code",
   "execution_count": 3,
   "id": "b4f9f894-bac2-4d55-a192-8c30d0c63b05",
   "metadata": {},
   "outputs": [],
   "source": [
    "fs= 200                 #sampling frequency (AFTER CHANGES?)\n",
    "channel= 32              #electrodes\n",
    "num_input= 1             #number of channel picture (for EEG signal is always : 1)\n",
    "num_class= 4             #classes \n",
    "signal_length = 267      #number of sample in each AFTER THE DOWNSAMPLING AND SLICING => X = X[:,:,200*2:200*6] and X = X[:,:,0:-1:3]\n",
    "\n",
    "F1= 8                    #number of temporal filters\n",
    "D= 3                     #depth multiplier (number of spatial filters)\n",
    "F2= D*F1                 #number of pointwise filters"
   ]
  },
  {
   "cell_type": "code",
   "execution_count": 4,
   "id": "1ebeb7a6-f5a6-4768-8c78-df47f8f93918",
   "metadata": {},
   "outputs": [],
   "source": [
    "#device = 'cuda' if torch.cuda.is_available() else 'cpu'\n",
    "device = 'cpu'\n",
    "kernel_size_1= (1,round(fs/2)) \n",
    "kernel_size_2= (channel, 1)\n",
    "kernel_size_3= (1, round(fs/8))\n",
    "kernel_size_4= (1, 1)\n",
    "\n",
    "kernel_avgpool_1= (1,4)\n",
    "kernel_avgpool_2= (1,8)\n",
    "dropout_rate= 0.2\n",
    "\n",
    "ks0= int(round((kernel_size_1[0]-1)/2))\n",
    "ks1= int(round((kernel_size_1[1]-1)/2))\n",
    "kernel_padding_1= (ks0, ks1-1)\n",
    "ks0= int(round((kernel_size_3[0]-1)/2))\n",
    "ks1= int(round((kernel_size_3[1]-1)/2))\n",
    "kernel_padding_3= (ks0, ks1)"
   ]
  },
  {
   "cell_type": "code",
   "execution_count": 5,
   "id": "42c8b9aa-1b2e-4313-aae1-4c1192d960e4",
   "metadata": {},
   "outputs": [],
   "source": [
    "class AverageMeter(object):\n",
    "    \"\"\"Computes and stores the average and current value\"\"\"\n",
    "    def __init__(self):\n",
    "        self.reset()\n",
    "\n",
    "    def reset(self):\n",
    "        self.val = 0\n",
    "        self.avg = 0\n",
    "        self.sum = 0\n",
    "        self.count = 0\n",
    "\n",
    "    def update(self, val, n=1):\n",
    "        self.val = val\n",
    "        self.sum += val * n\n",
    "        self.count += n\n",
    "        self.avg = self.sum / self.count"
   ]
  },
  {
   "cell_type": "code",
   "execution_count": 6,
   "id": "ae844fe4-809f-4bfb-a8ad-becdcfbda08b",
   "metadata": {},
   "outputs": [
    {
     "data": {
      "text/plain": [
       "EEGNet(\n",
       "  (conv2d): Conv2d(1, 8, kernel_size=(1, 100), stride=(1, 1), padding=(0, 49))\n",
       "  (Batch_normalization_1): BatchNorm2d(8, eps=1e-05, momentum=0.1, affine=True, track_running_stats=True)\n",
       "  (Depthwise_conv2D): Conv2d(8, 24, kernel_size=(32, 1), stride=(1, 1), groups=8)\n",
       "  (Batch_normalization_2): BatchNorm2d(24, eps=1e-05, momentum=0.1, affine=True, track_running_stats=True)\n",
       "  (Elu): ELU(alpha=1.0)\n",
       "  (Average_pooling2D_1): AvgPool2d(kernel_size=(1, 4), stride=(1, 4), padding=0)\n",
       "  (Dropout): Dropout2d(p=0.2, inplace=False)\n",
       "  (Separable_conv2D_depth): Conv2d(24, 24, kernel_size=(1, 25), stride=(1, 1), padding=(0, 12), groups=24)\n",
       "  (Separable_conv2D_point): Conv2d(24, 24, kernel_size=(1, 1), stride=(1, 1))\n",
       "  (Batch_normalization_3): BatchNorm2d(24, eps=1e-05, momentum=0.1, affine=True, track_running_stats=True)\n",
       "  (Average_pooling2D_2): AvgPool2d(kernel_size=(1, 8), stride=(1, 8), padding=0)\n",
       "  (Flatten): Flatten(start_dim=1, end_dim=-1)\n",
       "  (Dense): Linear(in_features=192, out_features=4, bias=True)\n",
       "  (Softmax): Softmax(dim=1)\n",
       ")"
      ]
     },
     "execution_count": 6,
     "metadata": {},
     "output_type": "execute_result"
    }
   ],
   "source": [
    "class EEGNet(nn.Module): \n",
    "    def __init__(self):\n",
    "        super().__init__()\n",
    "        # layer 1\n",
    "        self.conv2d = nn.Conv2d(num_input, F1, kernel_size_1, padding=kernel_padding_1)\n",
    "        self.Batch_normalization_1 = nn.BatchNorm2d(F1)\n",
    "        # layer 2\n",
    "        self.Depthwise_conv2D = nn.Conv2d(F1, D*F1, kernel_size_2, groups= F1)\n",
    "        self.Batch_normalization_2 = nn.BatchNorm2d(D*F1)\n",
    "        self.Elu = nn.ELU()\n",
    "        self.Average_pooling2D_1 = nn.AvgPool2d(kernel_avgpool_1)\n",
    "        self.Dropout = nn.Dropout2d(dropout_rate)\n",
    "        # layer 3\n",
    "        self.Separable_conv2D_depth = nn.Conv2d( D*F1, D*F1, kernel_size_3,\n",
    "                                                padding=kernel_padding_3, groups= D*F1)\n",
    "        self.Separable_conv2D_point = nn.Conv2d(D*F1, F2, kernel_size_4)\n",
    "        self.Batch_normalization_3 = nn.BatchNorm2d(F2)\n",
    "        self.Average_pooling2D_2 = nn.AvgPool2d(kernel_avgpool_2)\n",
    "        # layer 4\n",
    "        self.Flatten = nn.Flatten()\n",
    "        self.Dense = nn.Linear(F2*round(signal_length/32), num_class)\n",
    "        self.Softmax = nn.Softmax(dim= 1)\n",
    "        \n",
    "        \n",
    "    def forward(self, x):\n",
    "        # layer 1\n",
    "        y = self.Batch_normalization_1(self.conv2d(x)) #.relu()\n",
    "        # layer 2\n",
    "        y = self.Batch_normalization_2(self.Depthwise_conv2D(y))\n",
    "        y = self.Elu(y)\n",
    "        y = self.Dropout(self.Average_pooling2D_1(y))\n",
    "        # layer 3\n",
    "        y = self.Separable_conv2D_depth(y)\n",
    "        y = self.Batch_normalization_3(self.Separable_conv2D_point(y))\n",
    "        y = self.Elu(y)\n",
    "        y = self.Dropout(self.Average_pooling2D_2(y))\n",
    "        # layer 4\n",
    "        y = self.Flatten(y)\n",
    "        y = self.Dense(y)\n",
    "        #y = self.Softmax(y) dont need cause using cross entropy loss\n",
    "        \n",
    "        return y\n",
    "    \n",
    "model = EEGNet()\n",
    "model.to(device)"
   ]
  },
  {
   "cell_type": "code",
   "execution_count": 7,
   "id": "5130ea36-a807-4038-9850-426570a9bbff",
   "metadata": {},
   "outputs": [],
   "source": [
    "import torch\n",
    "from torch.utils.data import Dataset, DataLoader\n",
    "\n",
    "# Custom Dataset for EEG Data\n",
    "class EEGDataset(Dataset):\n",
    "    def __init__(self, X, y):\n",
    "        # X: EEG data (shape: [num_samples, num_channels, signal_length])\n",
    "        # y: Labels (shape: [num_samples])\n",
    "        self.X = torch.tensor(X, dtype=torch.float32)  # Convert EEG data to torch tensors\n",
    "        self.y = torch.tensor(y, dtype=torch.long)     # Convert labels to torch tensors\n",
    "\n",
    "    def __len__(self):\n",
    "        # Return the total number of samples\n",
    "        return len(self.y)\n",
    "\n",
    "    def __getitem__(self, idx):\n",
    "        # Return a sample (EEG data and corresponding label)\n",
    "        return self.X[idx], self.y[idx]\n"
   ]
  },
  {
   "cell_type": "code",
   "execution_count": 8,
   "id": "438237bc-34b0-490b-8b66-eb89e8e408ab",
   "metadata": {},
   "outputs": [],
   "source": [
    "def train_one_epoch(model, train_loader, loss_fn, optimizer):\n",
    "    model.train()\n",
    "    loss_train = AverageMeter()\n",
    "    acc_train = Accuracy(task=\"multiclass\", num_classes= num_class).to(device)\n",
    "    \n",
    "    for i, (inputs, targets) in enumerate(data_loader):\n",
    "        inputs = inputs.to(device)\n",
    "        targets = targets.to(device)\n",
    "        #inputs = inputs.unsqueeze(1)  \n",
    "\n",
    "        outputs = model(inputs)\n",
    "        loss = loss_fn(outputs, targets)\n",
    "        \n",
    "        loss.backward()\n",
    "        nn.utils.clip_grad_norm_(model.parameters(), 1)\n",
    "        optimizer.step()\n",
    "        optimizer.zero_grad()\n",
    "\n",
    "        loss_train.update(loss.item())\n",
    "        acc_train(outputs, targets.int())\n",
    "        \n",
    "    return model, loss_train.avg, acc_train.compute().item()"
   ]
  },
  {
   "cell_type": "code",
   "execution_count": 9,
   "id": "64a14fe9-afe5-4e96-b01f-dbec71679609",
   "metadata": {},
   "outputs": [
    {
     "name": "stdout",
     "output_type": "stream",
     "text": [
      "(660, 2)\n"
     ]
    }
   ],
   "source": [
    "file = \"features/cleaned_epoched_eeg.npy\"\n",
    "raw_data  =  np.load(file, allow_pickle=True)\n",
    "print(raw_data.shape)\n",
    "#print(raw_data[:2])"
   ]
  },
  {
   "cell_type": "code",
   "execution_count": 10,
   "id": "09d60e0e-e859-45ec-a1d4-efcb667672b6",
   "metadata": {},
   "outputs": [
    {
     "name": "stdout",
     "output_type": "stream",
     "text": [
      "Classes: [1 2 3 4]\n",
      "Counts per class: [165 165 165 165]\n"
     ]
    }
   ],
   "source": [
    "unique_classes, class_counts = np.unique(raw_data[:, 0], return_counts=True)\n",
    "print(\"Classes:\", unique_classes)\n",
    "print(\"Counts per class:\", class_counts)\n",
    "# 1 LEFT HAND\n",
    "# 2 RIGHT HAND\n",
    "# 3 FEET\n",
    "# 4 MENTAL SINGING"
   ]
  },
  {
   "cell_type": "code",
   "execution_count": 11,
   "id": "c9609d44-347e-4e4d-9446-caf185eb8388",
   "metadata": {},
   "outputs": [
    {
     "name": "stdout",
     "output_type": "stream",
     "text": [
      "EEG data shape: (660, 32, 1401)\n"
     ]
    }
   ],
   "source": [
    "eeg_data = np.stack(raw_data[:, 1]) \n",
    "print(\"EEG data shape:\", eeg_data.shape)\n",
    "#660 trials\n",
    "#32 channels\n",
    "#1401 time points per sample\n",
    "# add 1 for the eegnet input later!!"
   ]
  },
  {
   "cell_type": "code",
   "execution_count": 12,
   "id": "86a5f9f1-867b-49ea-b9f7-c1ddd1230e4f",
   "metadata": {},
   "outputs": [
    {
     "name": "stdout",
     "output_type": "stream",
     "text": [
      "Data shape: (660, 32, 1401), Labels shape: (660,)\n"
     ]
    }
   ],
   "source": [
    "X = np.stack(raw_data[:, 1])  # EEG \n",
    "y = raw_data[:, 0].astype(int) #classes\n",
    "# Shift the labels to be in the range [0, num_classes - 1]\n",
    "y = y - 1\n",
    "\n",
    "print(f\"Data shape: {X.shape}, Labels shape: {y.shape}\") # better safe then sorry"
   ]
  },
  {
   "cell_type": "code",
   "execution_count": 13,
   "id": "bfbe59e7-b0ac-4ab0-a871-cc06551b5932",
   "metadata": {},
   "outputs": [],
   "source": [
    "X = X[:,:,200*2:200*6] \n",
    "X = X[:,:,0:-1:3]"
   ]
  },
  {
   "cell_type": "code",
   "execution_count": 14,
   "id": "9f1768a8-ec13-4298-9c36-4b522d881fbe",
   "metadata": {},
   "outputs": [],
   "source": [
    "X_mean = X.mean(axis=2, keepdims=True)  \n",
    "X_std = X.std(axis=2, keepdims=True)    \n",
    "X = (X - X_mean) / X_std              "
   ]
  },
  {
   "cell_type": "code",
   "execution_count": 15,
   "id": "735fe587-011e-43c2-b8de-11818cc246fd",
   "metadata": {},
   "outputs": [
    {
     "name": "stdout",
     "output_type": "stream",
     "text": [
      "(660, 32, 267)\n",
      "(660,)\n"
     ]
    }
   ],
   "source": [
    "print(X.shape)\n",
    "print(y.shape)"
   ]
  },
  {
   "cell_type": "code",
   "execution_count": 16,
   "id": "751f21fc-6093-45b5-b522-453778e5cb9d",
   "metadata": {},
   "outputs": [],
   "source": [
    "X = torch.tensor(X, dtype=torch.float32).unsqueeze(1)  # Shape: (660, 1, 32, 267)\n",
    "y = torch.tensor(y, dtype=torch.long)                  # Shape: (660,)\n"
   ]
  },
  {
   "cell_type": "code",
   "execution_count": 17,
   "id": "81763a63-11ef-4d46-96e9-38f26677e606",
   "metadata": {},
   "outputs": [
    {
     "name": "stdout",
     "output_type": "stream",
     "text": [
      "torch.Size([660, 1, 32, 267])\n",
      "torch.Size([660])\n"
     ]
    }
   ],
   "source": [
    "print(X.shape)\n",
    "print(y.shape)"
   ]
  },
  {
   "cell_type": "code",
   "execution_count": 18,
   "id": "5166ed6b-1ec7-4a7c-bf17-99bb3af239db",
   "metadata": {},
   "outputs": [],
   "source": [
    "from sklearn.model_selection import train_test_split\n",
    "\n",
    "# Split data into training and validation sets (e.g., 80% train, 20% validation)\n",
    "#X_train, X_val, y_train, y_val = train_test_split(X, y, test_size=0.2, shuffle=True)\n",
    "X_train, X_val, y_train, y_val = train_test_split(X, y, test_size=0.2, stratify=y, random_state=42)\n",
    "\n",
    "train_batch_size = 64\n",
    "# Create DataLoader for training and validation sets\n",
    "train_dataset = TensorDataset(X_train, y_train)\n",
    "val_dataset = TensorDataset(X_val, y_val)\n",
    "\n",
    "train_loader = DataLoader(train_dataset, batch_size=train_batch_size, shuffle=True)\n",
    "val_loader = DataLoader(val_dataset, batch_size=train_batch_size, shuffle=False)\n"
   ]
  },
  {
   "cell_type": "code",
   "execution_count": 19,
   "id": "44f9eb0b-04ea-4269-b693-799773d14c45",
   "metadata": {},
   "outputs": [
    {
     "name": "stdout",
     "output_type": "stream",
     "text": [
      "Training set class distribution: [132 132 132 132]\n",
      "Validation set class distribution: [33 33 33 33]\n"
     ]
    }
   ],
   "source": [
    "# Check if the classes are balanced in both sets\n",
    "print(\"Training set class distribution:\", np.bincount(y_train))\n",
    "print(\"Validation set class distribution:\", np.bincount(y_val))"
   ]
  },
  {
   "cell_type": "code",
   "execution_count": 20,
   "id": "654c944e-5f63-4fe8-bf01-caa86fc24365",
   "metadata": {},
   "outputs": [
    {
     "name": "stdout",
     "output_type": "stream",
     "text": [
      "Epoch 0:\n",
      "  Train Loss: 1.3858, Train Accuracy: 30.87%\n",
      "  Val Loss: 1.3960, Val Accuracy: 32.58%\n",
      "\n",
      "Epoch 5:\n",
      "  Train Loss: 1.0407, Train Accuracy: 56.25%\n",
      "  Val Loss: 1.7535, Val Accuracy: 35.61%\n",
      "\n",
      "Epoch 10:\n",
      "  Train Loss: 0.7527, Train Accuracy: 69.89%\n",
      "  Val Loss: 1.4773, Val Accuracy: 40.15%\n",
      "\n",
      "Epoch 15:\n",
      "  Train Loss: 0.5724, Train Accuracy: 77.27%\n",
      "  Val Loss: 1.9976, Val Accuracy: 42.42%\n",
      "\n",
      "Epoch 20:\n",
      "  Train Loss: 0.5301, Train Accuracy: 79.17%\n",
      "  Val Loss: 1.8455, Val Accuracy: 45.45%\n",
      "\n",
      "Epoch 25:\n",
      "  Train Loss: 0.4571, Train Accuracy: 82.95%\n",
      "  Val Loss: 1.9508, Val Accuracy: 40.91%\n",
      "\n",
      "Epoch 30:\n",
      "  Train Loss: 0.3549, Train Accuracy: 86.74%\n",
      "  Val Loss: 1.5144, Val Accuracy: 46.21%\n",
      "\n",
      "Epoch 35:\n",
      "  Train Loss: 0.3585, Train Accuracy: 86.17%\n",
      "  Val Loss: 1.7002, Val Accuracy: 46.21%\n",
      "\n",
      "Epoch 40:\n",
      "  Train Loss: 0.2376, Train Accuracy: 90.91%\n",
      "  Val Loss: 1.9787, Val Accuracy: 40.15%\n",
      "\n",
      "Epoch 45:\n",
      "  Train Loss: 0.2600, Train Accuracy: 90.91%\n",
      "  Val Loss: 2.2485, Val Accuracy: 37.88%\n",
      "\n",
      "Epoch 50:\n",
      "  Train Loss: 0.2314, Train Accuracy: 91.48%\n",
      "  Val Loss: 1.7598, Val Accuracy: 43.18%\n",
      "\n",
      "Epoch 55:\n",
      "  Train Loss: 0.2053, Train Accuracy: 92.99%\n",
      "  Val Loss: 1.9117, Val Accuracy: 41.67%\n",
      "\n",
      "Epoch 60:\n",
      "  Train Loss: 0.1775, Train Accuracy: 93.56%\n",
      "  Val Loss: 1.4817, Val Accuracy: 45.45%\n",
      "\n",
      "Epoch 65:\n",
      "  Train Loss: 0.1521, Train Accuracy: 95.08%\n",
      "  Val Loss: 1.6824, Val Accuracy: 43.94%\n",
      "\n",
      "Epoch 70:\n",
      "  Train Loss: 0.1898, Train Accuracy: 93.37%\n",
      "  Val Loss: 1.7020, Val Accuracy: 44.70%\n",
      "\n",
      "Epoch 75:\n",
      "  Train Loss: 0.1875, Train Accuracy: 92.80%\n",
      "  Val Loss: 2.1671, Val Accuracy: 38.64%\n",
      "\n",
      "Epoch 80:\n",
      "  Train Loss: 0.2210, Train Accuracy: 92.42%\n",
      "  Val Loss: 2.7279, Val Accuracy: 41.67%\n",
      "\n",
      "Epoch 85:\n",
      "  Train Loss: 0.1925, Train Accuracy: 92.99%\n",
      "  Val Loss: 1.5383, Val Accuracy: 46.21%\n",
      "\n",
      "Epoch 90:\n",
      "  Train Loss: 0.1566, Train Accuracy: 94.32%\n",
      "  Val Loss: 1.8778, Val Accuracy: 45.45%\n",
      "\n",
      "Epoch 95:\n",
      "  Train Loss: 0.1604, Train Accuracy: 95.08%\n",
      "  Val Loss: 1.8714, Val Accuracy: 45.45%\n",
      "\n",
      "Epoch 100:\n",
      "  Train Loss: 0.1049, Train Accuracy: 96.97%\n",
      "  Val Loss: 1.5651, Val Accuracy: 46.97%\n",
      "\n",
      "Final Training Accuracy: 96.97%\n",
      "Final Validation Accuracy: 46.97%\n",
      "Final Training Loss: 0.1049\n",
      "Final Validation Loss: 1.5651\n"
     ]
    }
   ],
   "source": [
    "num_epochs = 101\n",
    "loss_fn = nn.CrossEntropyLoss().to(device)\n",
    "optimizer = optim.NAdam(model.parameters(), lr=0.01, weight_decay=1e-3)\n",
    "#scheduler = torch.optim.lr_scheduler.ReduceLROnPlateau(optimizer, mode='min', factor=0.5, patience=5, verbose=True)\n",
    "#early_stopping = EarlyStopping(patience=30, min_delta=0.001)\n",
    "\n",
    "loss_train_hist = []\n",
    "acc_train_hist = []\n",
    "loss_val_hist = []\n",
    "acc_val_hist = []\n",
    "\n",
    "for epoch in range(num_epochs):\n",
    "    # Training\n",
    "    model.train()  # Set model to training mode\n",
    "    train_loss = 0.0\n",
    "    correct_train = 0\n",
    "    total_train = 0\n",
    "    \n",
    "    for inputs, targets in train_loader:\n",
    "        inputs, targets = inputs.to(device), targets.to(device)\n",
    "\n",
    "        # Forward pass\n",
    "        outputs = model(inputs)\n",
    "        loss = loss_fn(outputs, targets)\n",
    "\n",
    "        # Backward pass\n",
    "        optimizer.zero_grad()\n",
    "        loss.backward()\n",
    "        optimizer.step()\n",
    "\n",
    "        # Track training loss and accuracy\n",
    "        train_loss += loss.item()\n",
    "        _, predicted = torch.max(outputs, 1)\n",
    "        total_train += targets.size(0)\n",
    "        correct_train += (predicted == targets).sum().item()\n",
    "\n",
    "    #average training loss and accuracy\n",
    "    loss_train = train_loss / len(train_loader)\n",
    "    acc_train = correct_train / total_train\n",
    "    \n",
    "    # Validation\n",
    "    model.eval()  # Set model to evaluation mode\n",
    "    val_loss = 0.0\n",
    "    correct_val = 0\n",
    "    total_val = 0\n",
    "    \n",
    "    with torch.no_grad():  # Disable gradient calculation for validation\n",
    "        for inputs, targets in val_loader:\n",
    "            inputs, targets = inputs.to(device), targets.to(device)\n",
    "\n",
    "            # Forward pass (no gradients)\n",
    "            outputs = model(inputs)\n",
    "            loss = loss_fn(outputs, targets)\n",
    "\n",
    "            # Track validation loss and accuracy\n",
    "            val_loss += loss.item()\n",
    "            _, predicted = torch.max(outputs, 1)\n",
    "            total_val += targets.size(0)\n",
    "            correct_val += (predicted == targets).sum().item()\n",
    "\n",
    "    loss_val = val_loss / len(val_loader)\n",
    "    acc_val = correct_val / total_val\n",
    "\n",
    "    loss_train_hist.append(loss_train)\n",
    "    acc_train_hist.append(acc_train)\n",
    "    loss_val_hist.append(loss_val)\n",
    "    acc_val_hist.append(acc_val)\n",
    "\n",
    "    if (epoch % 10 == 0) or (epoch % 10 == 5):\n",
    "        print(f'Epoch {epoch}:')\n",
    "        print(f'  Train Loss: {loss_train:.4f}, Train Accuracy: {acc_train * 100:.2f}%')\n",
    "        print(f'  Val Loss: {loss_val:.4f}, Val Accuracy: {acc_val * 100:.2f}%\\n')\n",
    "\n",
    "print(f\"Final Training Accuracy: {acc_train_hist[-1] * 100:.2f}%\")\n",
    "print(f\"Final Validation Accuracy: {acc_val_hist[-1] * 100:.2f}%\")\n",
    "print(f\"Final Training Loss: {loss_train_hist[-1]:.4f}\")\n",
    "print(f\"Final Validation Loss: {loss_val_hist[-1]:.4f}\")"
   ]
  },
  {
   "cell_type": "code",
   "execution_count": 21,
   "id": "19cdfb85-a72e-4ced-89d4-c408bc6eca75",
   "metadata": {},
   "outputs": [
    {
     "data": {
      "image/png": "[encoded data removed]",
      "text/plain": [
       "<Figure size 640x480 with 1 Axes>"
      ]
     },
     "metadata": {},
     "output_type": "display_data"
    }
   ],
   "source": [
    "plt.plot(range(num_epochs), acc_train_hist, 'b-', label='Train')  # Train accuracy\n",
    "plt.plot(range(num_epochs), acc_val_hist, 'r-', label='Validation')  # Validation accuracy\n",
    "plt.xlabel('Epoch')\n",
    "plt.ylabel('Accuracy')\n",
    "plt.grid(True)\n",
    "plt.legend()\n",
    "plt.show()\n"
   ]
  },
  {
   "cell_type": "code",
   "execution_count": 22,
   "id": "8099f075-4904-4872-b701-63f8778eb523",
   "metadata": {},
   "outputs": [
    {
     "data": {
      "image/png": "[encoded data removed]",
      "text/plain": [
       "<Figure size 1000x700 with 2 Axes>"
      ]
     },
     "metadata": {},
     "output_type": "display_data"
    }
   ],
   "source": [
    "import numpy as np\n",
    "import matplotlib.pyplot as plt\n",
    "import seaborn as sns\n",
    "from sklearn.metrics import confusion_matrix\n",
    "\n",
    "# After training, we calculate predictions for the validation set\n",
    "all_preds = []\n",
    "all_targets = []\n",
    "\n",
    "model.eval()  # Set model to evaluation mode\n",
    "with torch.no_grad():  # Disable gradient calculation for validation\n",
    "    for inputs, targets in val_loader:\n",
    "        inputs, targets = inputs.to(device), targets.to(device)\n",
    "        \n",
    "        # Get predictions\n",
    "        outputs = model(inputs)\n",
    "        _, predicted = torch.max(outputs, 1)\n",
    "        \n",
    "        # Append predictions and true labels\n",
    "        all_preds.append(predicted.cpu().numpy())\n",
    "        all_targets.append(targets.cpu().numpy())\n",
    "\n",
    "# Flatten the list of predictions and targets\n",
    "all_preds = np.concatenate(all_preds)\n",
    "all_targets = np.concatenate(all_targets)\n",
    "\n",
    "# Generate the confusion matrix\n",
    "conf_matrix = confusion_matrix(all_targets, all_preds)\n",
    "\n",
    "# Plot the confusion matrix\n",
    "plt.figure(figsize=(10, 7))\n",
    "sns.heatmap(conf_matrix, annot=True, fmt='d', cmap='Blues', xticklabels=['Class 0', 'Class 1', 'Class 2', 'Class 3'],\n",
    "            yticklabels=['Class 0', 'Class 1', 'Class 2', 'Class 3'])\n",
    "plt.xlabel('Predicted Label')\n",
    "plt.ylabel('True Label')\n",
    "plt.title('Confusion Matrix')\n",
    "plt.show()\n"
   ]
  },
  {
   "cell_type": "code",
   "execution_count": null,
   "id": "d453819b-f4a1-41cd-a00d-7c788dc3d957",
   "metadata": {},
   "outputs": [],
   "source": []
  }
 ],
 "metadata": {
  "kernelspec": {
   "display_name": "Python 3 (ipykernel)",
   "language": "python",
   "name": "python3"
  },
  "language_info": {
   "codemirror_mode": {
    "name": "ipython",
    "version": 3
   },
   "file_extension": ".py",
   "mimetype": "text/x-python",
   "name": "python",
   "nbconvert_exporter": "python",
   "pygments_lexer": "ipython3",
   "version": "3.8.20"
  }
 },
 "nbformat": 4,
 "nbformat_minor": 5
}
